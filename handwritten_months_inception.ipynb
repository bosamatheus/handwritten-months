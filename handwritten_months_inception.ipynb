{
 "cells": [
  {
   "cell_type": "markdown",
   "metadata": {},
   "source": [
    "# Using Inception network and Transfer Learning to recognize handwritten months in Portuguese."
   ]
  },
  {
   "cell_type": "code",
   "execution_count": 7,
   "metadata": {},
   "outputs": [],
   "source": [
    "from keras.preprocessing import image\n",
    "from keras.applications.inception_v3 import InceptionV3\n",
    "from keras.applications.inception_v3 import preprocess_input\n",
    "from keras.layers import Input\n",
    "import pandas as pd\n",
    "import os\n",
    "import progressbar\n",
    "\n",
    "import numpy as np\n",
    "from numpy.random import seed\n",
    "seed(1)\n",
    "from tensorflow import set_random_seed\n",
    "set_random_seed(2)"
   ]
  },
  {
   "cell_type": "code",
   "execution_count": 3,
   "metadata": {
    "colab": {
     "base_uri": "https://localhost:8080/",
     "height": 645
    },
    "colab_type": "code",
    "id": "ObKtgOlQQsBL",
    "outputId": "c1a7ef07-2784-431e-efbc-78245851c6bb"
   },
   "outputs": [],
   "source": [
    "# input file\n",
    "def build_features(model, file, size):\n",
    "  arq = open(file,'r')\n",
    "  conteudo_entrada = arq.readlines()\n",
    "  arq.close()\n",
    "\n",
    "  img_rows = size\n",
    "  img_cols = size\n",
    "\n",
    "  # InceptionV3\n",
    "  # - weights='imagenet' (inicializa pesos pre-treinado na ImageNet)\n",
    "  # - include_top=False (nao inclui as fully-connected layers)\n",
    "  # - input_shape=(299, 299, 3) (DEFAULT) (minimo=75x75)\n",
    "  #model = InceptionV3(weights='imagenet', include_top=True)\n",
    "\n",
    "\n",
    "  X = []\n",
    "  y = []\n",
    "\n",
    "  print(\"Loading...\", file)\n",
    "  for i in progressbar.progressbar(conteudo_entrada):\n",
    "    nome, classe = i.split()\n",
    "\n",
    "    # loading image\n",
    "    img_path = 'data/' + nome\n",
    "    img = image.load_img(img_path, target_size=(img_rows,img_cols))\n",
    "    img_data = image.img_to_array(img)\n",
    "    img_data = np.expand_dims(img_data, axis=0)\n",
    "    img_data = preprocess_input(img_data)\n",
    "\n",
    "    # show image to network\n",
    "    inception_features = model.predict(img_data)\n",
    "\n",
    "    # flatten\n",
    "    features_np = np.array(inception_features)\n",
    "    X.append(features_np.flatten())\n",
    "    y.append(int(classe))\n",
    "    \n",
    "  return X, y"
   ]
  },
  {
   "cell_type": "code",
   "execution_count": 4,
   "metadata": {},
   "outputs": [
    {
     "name": "stdout",
     "output_type": "stream",
     "text": [
      "WARNING:tensorflow:From /home/matheusbosa/Dev/anaconda3/lib/python3.6/site-packages/keras/backend/tensorflow_backend.py:74: The name tf.get_default_graph is deprecated. Please use tf.compat.v1.get_default_graph instead.\n",
      "\n",
      "WARNING:tensorflow:From /home/matheusbosa/Dev/anaconda3/lib/python3.6/site-packages/keras/backend/tensorflow_backend.py:517: The name tf.placeholder is deprecated. Please use tf.compat.v1.placeholder instead.\n",
      "\n",
      "WARNING:tensorflow:From /home/matheusbosa/Dev/anaconda3/lib/python3.6/site-packages/keras/backend/tensorflow_backend.py:4138: The name tf.random_uniform is deprecated. Please use tf.random.uniform instead.\n",
      "\n",
      "WARNING:tensorflow:From /home/matheusbosa/Dev/anaconda3/lib/python3.6/site-packages/keras/backend/tensorflow_backend.py:174: The name tf.get_default_session is deprecated. Please use tf.compat.v1.get_default_session instead.\n",
      "\n",
      "WARNING:tensorflow:From /home/matheusbosa/Dev/anaconda3/lib/python3.6/site-packages/keras/backend/tensorflow_backend.py:181: The name tf.ConfigProto is deprecated. Please use tf.compat.v1.ConfigProto instead.\n",
      "\n",
      "WARNING:tensorflow:From /home/matheusbosa/Dev/anaconda3/lib/python3.6/site-packages/keras/backend/tensorflow_backend.py:1834: The name tf.nn.fused_batch_norm is deprecated. Please use tf.compat.v1.nn.fused_batch_norm instead.\n",
      "\n",
      "WARNING:tensorflow:From /home/matheusbosa/Dev/anaconda3/lib/python3.6/site-packages/keras/backend/tensorflow_backend.py:3976: The name tf.nn.max_pool is deprecated. Please use tf.nn.max_pool2d instead.\n",
      "\n",
      "WARNING:tensorflow:From /home/matheusbosa/Dev/anaconda3/lib/python3.6/site-packages/keras/backend/tensorflow_backend.py:3980: The name tf.nn.avg_pool is deprecated. Please use tf.nn.avg_pool2d instead.\n",
      "\n"
     ]
    },
    {
     "name": "stderr",
     "output_type": "stream",
     "text": [
      "N/A% (0 of 1578) |                       | Elapsed Time: 0:00:00 ETA:  --:--:--"
     ]
    },
    {
     "name": "stdout",
     "output_type": "stream",
     "text": [
      "Loading... train.txt\n"
     ]
    },
    {
     "name": "stderr",
     "output_type": "stream",
     "text": [
      "100% (1578 of 1578) |####################| Elapsed Time: 0:05:01 Time:  0:05:01\n",
      "  0% (1 of 401) |                        | Elapsed Time: 0:00:00 ETA:   0:01:02"
     ]
    },
    {
     "name": "stdout",
     "output_type": "stream",
     "text": [
      "Loading... test.txt\n"
     ]
    },
    {
     "name": "stderr",
     "output_type": "stream",
     "text": [
      "100% (401 of 401) |######################| Elapsed Time: 0:01:27 Time:  0:01:27\n"
     ]
    }
   ],
   "source": [
    "size = 256\n",
    "model = InceptionV3(include_top=False, weights='imagenet', pooling='avg', \n",
    "                    input_tensor=Input(shape=(size,size,3)))\n",
    "\n",
    "X_train, y_train = build_features(model, 'train.txt', size)\n",
    "X_test, y_test = build_features(model, 'test.txt', size)"
   ]
  },
  {
   "cell_type": "code",
   "execution_count": 13,
   "metadata": {},
   "outputs": [],
   "source": [
    "from sklearn.naive_bayes import GaussianNB\n",
    "from sklearn import model_selection\n",
    "from sklearn.metrics import confusion_matrix\n",
    "from sklearn.model_selection import train_test_split\n",
    "from sklearn.linear_model import LogisticRegression\n",
    "from sklearn.ensemble import RandomForestClassifier\n",
    "import pylab as pl"
   ]
  },
  {
   "cell_type": "code",
   "execution_count": 14,
   "metadata": {
    "colab": {
     "base_uri": "https://localhost:8080/",
     "height": 298
    },
    "colab_type": "code",
    "id": "1pMsZhLURUxN",
    "outputId": "2e295951-20e7-4b49-82e3-76be3a1b6583"
   },
   "outputs": [
    {
     "name": "stderr",
     "output_type": "stream",
     "text": [
      "/home/matheusbosa/Dev/anaconda3/lib/python3.6/site-packages/sklearn/linear_model/logistic.py:947: ConvergenceWarning: lbfgs failed to converge. Increase the number of iterations.\n",
      "  \"of iterations.\", ConvergenceWarning)\n"
     ]
    },
    {
     "name": "stdout",
     "output_type": "stream",
     "text": [
      "Score: 0.7331670822942643\n",
      "[[30  3  0  0  2  2  0  2  0  0  0  0]\n",
      " [ 6 22  0  0  1  0  0  0  1  0  0  2]\n",
      " [ 2  0 33  0  0  0  0  1  0  0  0  0]\n",
      " [ 0  0  0 30  8  0  1  0  0  0  0  0]\n",
      " [ 2  0  2  4 28  1  0  0  0  1  0  0]\n",
      " [ 3  0  1  0  2 18  3  0  2  0  0  0]\n",
      " [ 2  0  1  3  1  3 22  0  0  0  0  0]\n",
      " [ 0  0  0  2  0  0  0 26  0  0  0  0]\n",
      " [ 1  2  0  0  0  0  0  0 20  5  0  3]\n",
      " [ 0  0  1  3  1  0  0  0  1 24  0  0]\n",
      " [ 0  1  1  0  0  0  0  0  3  1 28  0]\n",
      " [ 1  2  1  0  0  1  0  5  6  0  4 13]]\n"
     ]
    },
    {
     "data": {
      "image/png": "[encoded data removed]",
      "text/plain": [
       "<Figure size 288x288 with 2 Axes>"
      ]
     },
     "metadata": {
      "needs_background": "light"
     },
     "output_type": "display_data"
    }
   ],
   "source": [
    "# classifier's train\n",
    "#clfa = GaussianNB()\n",
    "clfa = LogisticRegression(C=1e5, solver='lbfgs', multi_class='multinomial') # best choice\n",
    "#clfa = RandomForestClassifier(n_estimators=100)\n",
    "clfa = clfa.fit(X_train, y_train)\n",
    "\n",
    "# testing\n",
    "y_pred = clfa.predict(X_test)\n",
    "\n",
    "# calculate accuracy\n",
    "score = clfa.score(X_test, y_test)\n",
    "\n",
    "# calculate confusion matrix\n",
    "cm = confusion_matrix(y_test, y_pred)\n",
    "\n",
    "print('Score:', score)\n",
    "print(cm)\n",
    "pl.matshow(cm)\n",
    "pl.colorbar()\n",
    "pl.show()"
   ]
  }
 ],
 "metadata": {
  "colab": {
   "name": "cnn_meses_ano_inception.ipynb",
   "provenance": []
  },
  "kernelspec": {
   "display_name": "Python 3",
   "language": "python",
   "name": "python3"
  },
  "language_info": {
   "codemirror_mode": {
    "name": "ipython",
    "version": 3
   },
   "file_extension": ".py",
   "mimetype": "text/x-python",
   "name": "python",
   "nbconvert_exporter": "python",
   "pygments_lexer": "ipython3",
   "version": "3.6.9"
  }
 },
 "nbformat": 4,
 "nbformat_minor": 4
}
